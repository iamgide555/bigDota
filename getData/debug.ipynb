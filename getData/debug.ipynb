{
 "metadata": {
  "language_info": {
   "codemirror_mode": {
    "name": "ipython",
    "version": 3
   },
   "file_extension": ".py",
   "mimetype": "text/x-python",
   "name": "python",
   "nbconvert_exporter": "python",
   "pygments_lexer": "ipython3",
   "version": "3.8.7-final"
  },
  "orig_nbformat": 2,
  "kernelspec": {
   "name": "python3",
   "display_name": "Python 3",
   "language": "python"
  }
 },
 "nbformat": 4,
 "nbformat_minor": 2,
 "cells": [
  {
   "source": [
    "## Check duplicate matchID"
   ],
   "cell_type": "markdown",
   "metadata": {}
  },
  {
   "cell_type": "code",
   "execution_count": 1,
   "metadata": {},
   "outputs": [],
   "source": [
    "import json"
   ]
  },
  {
   "cell_type": "code",
   "execution_count": 6,
   "metadata": {},
   "outputs": [],
   "source": [
    "path, dirs, files = next(os.walk(\"data/matchDetail/\"))\n",
    "files = files[0:4]"
   ]
  },
  {
   "cell_type": "code",
   "execution_count": 7,
   "metadata": {},
   "outputs": [
    {
     "output_type": "execute_result",
     "data": {
      "text/plain": [
       "['detail1.json', 'detail2.json', 'detail3.json', 'detail4.json']"
      ]
     },
     "metadata": {},
     "execution_count": 7
    }
   ],
   "source": [
    "files"
   ]
  },
  {
   "cell_type": "code",
   "execution_count": 8,
   "metadata": {},
   "outputs": [],
   "source": [
    "def readFile(path):\n",
    "    data = []\n",
    "    with open(path,'r') as f:\n",
    "        data = json.load(f)\n",
    "    f.close()\n",
    "    return data"
   ]
  },
  {
   "cell_type": "code",
   "execution_count": 9,
   "metadata": {},
   "outputs": [
    {
     "output_type": "stream",
     "name": "stdout",
     "text": [
      "Reading  detail1.json ......\n",
      "Reading  detail2.json ......\n",
      "Reading  detail3.json ......\n",
      "Reading  detail4.json ......\n"
     ]
    }
   ],
   "source": [
    "matchID = []\n",
    "duplicateID = []\n",
    "for name in files:\n",
    "    print(\"Reading \",name,\"......\")\n",
    "    data = readFile(path+name)\n",
    "    id = [id['match_id'] for id in data['data']]\n",
    "    matchID.extend(id)"
   ]
  },
  {
   "cell_type": "code",
   "execution_count": 10,
   "metadata": {},
   "outputs": [
    {
     "output_type": "stream",
     "name": "stdout",
     "text": [
      "80000  :  80000\n"
     ]
    }
   ],
   "source": [
    "print(len(matchID),\" : \",len(set(matchID)))"
   ]
  },
  {
   "source": [
    "## Check player file exist or not"
   ],
   "cell_type": "markdown",
   "metadata": {}
  },
  {
   "cell_type": "code",
   "execution_count": 11,
   "metadata": {},
   "outputs": [],
   "source": [
    "path, dirs, files = next(os.walk(\"data/players/\"))"
   ]
  },
  {
   "cell_type": "code",
   "execution_count": 15,
   "metadata": {},
   "outputs": [],
   "source": [
    "fileID = [id.split('.json')[0] for id in files]"
   ]
  },
  {
   "cell_type": "code",
   "execution_count": 27,
   "metadata": {},
   "outputs": [],
   "source": [
    "fileExists = []\n",
    "for id in matchID:\n",
    "    if str(id) in fileID:\n",
    "        fileExists.append(id)   "
   ]
  },
  {
   "cell_type": "code",
   "execution_count": 28,
   "metadata": {},
   "outputs": [
    {
     "output_type": "stream",
     "name": "stdout",
     "text": [
      "80000\n"
     ]
    }
   ],
   "source": [
    "print(len(fileExists))"
   ]
  }
 ]
}